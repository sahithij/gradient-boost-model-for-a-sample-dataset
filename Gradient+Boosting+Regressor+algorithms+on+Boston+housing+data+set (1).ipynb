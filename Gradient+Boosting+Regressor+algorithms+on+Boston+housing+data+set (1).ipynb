{
 "cells": [
  {
   "cell_type": "markdown",
   "metadata": {},
   "source": [
    "# This Notebook explains the implementation of Gradient Boosting Algorithm"
   ]
  },
  {
   "cell_type": "code",
   "execution_count": 54,
   "metadata": {
    "collapsed": true
   },
   "outputs": [],
   "source": [
    "# The model that we are going to build this notebook will predict the price of a house when given features of the house.\n",
    "# As the target variable(price of the house) is continous we are going to use Gradient Boosting Regressr Model.\n",
    "# importing different packages needed\n",
    "import pandas as pd\n",
    "import numpy as np\n",
    "import matplotlib.pyplot as plt\n",
    "from sklearn import datasets\n",
    "from sklearn.ensemble import GradientBoostingRegressor\n",
    "from sklearn.metrics import mean_squared_error\n",
    "from sklearn.model_selection import train_test_split"
   ]
  },
  {
   "cell_type": "code",
   "execution_count": 55,
   "metadata": {},
   "outputs": [],
   "source": [
    "#loading the data sets from sklearn package\n",
    "Boston = datasets.load_boston()\n",
    "\n",
    "#loading the data set into a data frame\n",
    "df = pd.DataFrame(Boston.data, columns = Boston.feature_names)\n",
    "df['H_Val'] = pd.DataFrame(Boston.target)"
   ]
  },
  {
   "cell_type": "code",
   "execution_count": 56,
   "metadata": {},
   "outputs": [],
   "source": [
    "#diving the data into Predictor Variables(X) and Target Variable(Y)\n",
    "X = df.drop(['H_Val'], axis = 1) #dropping the target variable\n",
    "y = df['H_Val']\n",
    "\n",
    "#Splitting the dataset into two parts(1.Training Data Set  2.Testing Dataset) using train_test_split( function)\n",
    "X_train, X_test, y_train, y_test = train_test_split(X, y, test_size = 0.33, random_state = 13)"
   ]
  },
  {
   "cell_type": "code",
   "execution_count": 57,
   "metadata": {},
   "outputs": [
    {
     "name": "stdout",
     "output_type": "stream",
     "text": [
      "MSE : 11.4366\n"
     ]
    }
   ],
   "source": [
    "#fitting a gradient tree boosting regression model with use 500 trees, with each tree having a depth of 4 levels \n",
    "params = {'n_estimators': 500, 'max_depth' : 4, 'learning_rate': 0.01, 'loss': 'ls'}\n",
    "gbm = GradientBoostingRegressor(**params).fit(X_train, y_train)\n",
    "\n",
    "#testing out model accuracy by calculating mean squared error value using mean_squared_error() function\n",
    "y_pred = gbm.predict(X_test)\n",
    "mse = mean_squared_error(y_test, y_pred)\n",
    "print (\"MSE : %.4f\"  % mse)"
   ]
  },
  {
   "cell_type": "code",
   "execution_count": 62,
   "metadata": {},
   "outputs": [
    {
     "data": {
      "text/plain": [
       "Text(0,0.5,'Deviance')"
      ]
     },
     "execution_count": 62,
     "metadata": {},
     "output_type": "execute_result"
    }
   ],
   "source": [
    "#computing test set deviance\n",
    "\n",
    "test_score = np.zeros((params['n_estimators'],), dtype = np.float64)\n",
    "\n",
    "for i, y_pred in enumerate(gbm.staged_predict(X_test)):\n",
    "    test_score[i] = gbm.loss_(y_test, y_pred)\n",
    "    \n",
    "#Plotting the behavior of algorithm over training and testing error\n",
    "\n",
    "plt.figure(figsize = (12, 6))\n",
    "plt.subplot(1,1,1)\n",
    "plt.title('Deviance')\n",
    "plt.plot(np.arange(params['n_estimators']) +1, gbm.train_score_, 'b_', label = 'Training Set Deviance')\n",
    "plt.plot(np.arange(params['n_estimators'])+ 1, test_score, 'r_', label = 'Test Set Deviance')\n",
    "\n",
    "plt.legend(loc = 'upper right')\n",
    "plt.xlabel('Boosting Iterations')\n",
    "plt.ylabel('Deviance')"
   ]
  },
  {
   "cell_type": "code",
   "execution_count": null,
   "metadata": {
    "collapsed": true
   },
   "outputs": [],
   "source": []
  }
 ],
 "metadata": {
  "kernelspec": {
   "display_name": "Python 3",
   "language": "python",
   "name": "python3"
  },
  "language_info": {
   "codemirror_mode": {
    "name": "ipython",
    "version": 3
   },
   "file_extension": ".py",
   "mimetype": "text/x-python",
   "name": "python",
   "nbconvert_exporter": "python",
   "pygments_lexer": "ipython3",
   "version": "3.6.3"
  }
 },
 "nbformat": 4,
 "nbformat_minor": 2
}
